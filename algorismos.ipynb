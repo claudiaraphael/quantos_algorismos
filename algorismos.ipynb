{
 "cells": [
  {
   "cell_type": "code",
   "execution_count": 37,
   "metadata": {},
   "outputs": [
    {
     "name": "stdout",
     "output_type": "stream",
     "text": [
      "Digite um número inteiro\n",
      "3\n",
      "26\n"
     ]
    }
   ],
   "source": [
    "n = input('Digite um numero qualquer')\n",
    "\n",
    "if type(n) != int:\n",
    "    print('Digite um número inteiro')\n",
    "elif type(n) == int and type(n) != str:\n",
    "    def algarismos(n):\n",
    "        n = str(n)\n",
    "        algorismos = 0\n",
    "        for i in n:\n",
    "            algorismos += 1\n",
    "        print(algorismos)\n",
    "\n",
    "algarismos(n)\n",
    "\n",
    "# questão:\n",
    "algarismos(n = 5**23 * 2**30)"
   ]
  },
  {
   "cell_type": "code",
   "execution_count": 38,
   "metadata": {},
   "outputs": [
    {
     "data": {
      "text/plain": [
       "str"
      ]
     },
     "execution_count": 38,
     "metadata": {},
     "output_type": "execute_result"
    }
   ],
   "source": [
    "type('n')"
   ]
  }
 ],
 "metadata": {
  "kernelspec": {
   "display_name": "base",
   "language": "python",
   "name": "python3"
  },
  "language_info": {
   "codemirror_mode": {
    "name": "ipython",
    "version": 3
   },
   "file_extension": ".py",
   "mimetype": "text/x-python",
   "name": "python",
   "nbconvert_exporter": "python",
   "pygments_lexer": "ipython3",
   "version": "3.9.7"
  },
  "orig_nbformat": 4
 },
 "nbformat": 4,
 "nbformat_minor": 2
}
